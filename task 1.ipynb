{
 "cells": [
  {
   "cell_type": "markdown",
   "metadata": {},
   "source": [
    "# 1. 常量"
   ]
  },
  {
   "cell_type": "markdown",
   "metadata": {},
   "source": [
    "## 1.1 numpy.nan"
   ]
  },
  {
   "cell_type": "markdown",
   "metadata": {},
   "source": [
    "- 定义：表示非数值 （not a number), 表示一个不确定的数, 所以两个nan不相等\n",
    "- nan = Nan = NAN \n",
    "- 用numpy.isnan(x, *args, **kwargs) 来判断是否有Nan，返回真假\n",
    "[关于args和kwargs](lhttps://blog.csdn.net/weixin_37720172/article/details/78255177])"
   ]
  },
  {
   "cell_type": "markdown",
   "metadata": {},
   "source": [
    "### 例  (判断是否数组中含有nan）"
   ]
  },
  {
   "cell_type": "code",
   "execution_count": 16,
   "metadata": {},
   "outputs": [
    {
     "name": "stdout",
     "output_type": "stream",
     "text": [
      "[ 1.  1.  8. nan 10.]\n",
      "[False False False  True False]\n"
     ]
    }
   ],
   "source": [
    "import numpy as np\n",
    "\n",
    "a = np.array([1, 1, 8, np.nan, 10])\n",
    "print(a)\n",
    "\n",
    "b = np.isnan(a)\n",
    "print(b)"
   ]
  },
  {
   "cell_type": "code",
   "execution_count": 19,
   "metadata": {},
   "outputs": [
    {
     "data": {
      "text/plain": [
       "1"
      ]
     },
     "execution_count": 19,
     "metadata": {},
     "output_type": "execute_result"
    }
   ],
   "source": [
    "#count_nonzero()方法是求一个数组中非零元素的个数\n",
    "np.count_nonzero(b)"
   ]
  },
  {
   "cell_type": "markdown",
   "metadata": {},
   "source": [
    "## 1.2 numpy.inf"
   ]
  },
  {
   "cell_type": "markdown",
   "metadata": {},
   "source": [
    "- 定义：表示正无穷大，返回浮点\n",
    "- Inf = inf = infty = Infinity = PINF"
   ]
  },
  {
   "cell_type": "markdown",
   "metadata": {},
   "source": [
    "## 1.3 numpy.NINF"
   ]
  },
  {
   "cell_type": "markdown",
   "metadata": {},
   "source": [
    "- 定义：表示负无穷大，返回浮点"
   ]
  },
  {
   "cell_type": "markdown",
   "metadata": {},
   "source": [
    "    isinf : 显示哪些元素为正或负无穷大\n",
    "    isposinf : 显示哪些元素是正无穷大\n",
    "    isneginf : 显示哪些元素为负无穷大\n",
    "    isfinite : 显示哪些元素是有限的（不是非数字，正无穷大和负无穷大中的一个）"
   ]
  },
  {
   "cell_type": "markdown",
   "metadata": {},
   "source": [
    "## 1.4 numpy.pi"
   ]
  },
  {
   "cell_type": "markdown",
   "metadata": {},
   "source": [
    "- 定义：表示圆周率，pi = 3.1415926535897932384626433..."
   ]
  },
  {
   "cell_type": "markdown",
   "metadata": {},
   "source": [
    "## 1.5 numpy.e"
   ]
  },
  {
   "cell_type": "markdown",
   "metadata": {},
   "source": [
    "- 定义：表示自然常数"
   ]
  },
  {
   "cell_type": "markdown",
   "metadata": {},
   "source": [
    "# 2. 数据类型"
   ]
  },
  {
   "cell_type": "markdown",
   "metadata": {},
   "source": [
    "- Python 原生的数据类型相对较少， bool、int、float、str，为了加以区分 numpy 在这些类型名称末尾都加了“_”"
   ]
  },
  {
   "cell_type": "markdown",
   "metadata": {},
   "source": [
    "## 2.1 创建数据类型"
   ]
  },
  {
   "cell_type": "markdown",
   "metadata": {},
   "source": [
    "- numpy 的数值类型实际上是 dtype 对象的实例"
   ]
  },
  {
   "cell_type": "code",
   "execution_count": 24,
   "metadata": {},
   "outputs": [
    {
     "name": "stdout",
     "output_type": "stream",
     "text": [
      "<class 'numpy.float64'>\n"
     ]
    }
   ],
   "source": [
    "#如何查看数据类型\n",
    "x = np.dtype('f8')\n",
    "print(x.type)"
   ]
  },
  {
   "cell_type": "code",
   "execution_count": 26,
   "metadata": {},
   "outputs": [
    {
     "name": "stdout",
     "output_type": "stream",
     "text": [
      "-1.7976931348623157e+308 1.7976931348623157e+308\n"
     ]
    }
   ],
   "source": [
    "#如何查看数据信息\n",
    "y = np.finfo(np.float64)\n",
    "print(y.min, y.max)"
   ]
  },
  {
   "cell_type": "markdown",
   "metadata": {},
   "source": [
    "# 3. 时间日期和时间增量"
   ]
  },
  {
   "cell_type": "markdown",
   "metadata": {},
   "source": [
    "## 3.1 datetime64 基础"
   ]
  },
  {
   "cell_type": "markdown",
   "metadata": {},
   "source": [
    "- 在 numpy 中，我们很方便的将字符串转换成时间日期类型 datetime64（datetime 已被 python 包含的日期时间库所占用）\n",
    "- 从字符串创建 datetime64 类型时，默认情况下，numpy 会根据字符串自动选择对应的单位"
   ]
  },
  {
   "cell_type": "markdown",
   "metadata": {},
   "source": [
    "### 例"
   ]
  },
  {
   "cell_type": "code",
   "execution_count": 33,
   "metadata": {},
   "outputs": [
    {
     "name": "stdout",
     "output_type": "stream",
     "text": [
      "2020-10-20 datetime64[D]\n",
      "2020-10 datetime64[M]\n",
      "2020 datetime64[Y]\n"
     ]
    }
   ],
   "source": [
    "m = np.datetime64('2020-10-20')\n",
    "print(m, m.dtype)\n",
    "\n",
    "n = np.datetime64('2020-10')\n",
    "print(n, n.dtype)\n",
    "\n",
    "#从字符串创建 datetime64 类型时，可以强制指定使用的单位。\n",
    "\n",
    "o = np.datetime64('2020-10', 'Y')\n",
    "print(o, o.dtype)"
   ]
  },
  {
   "cell_type": "code",
   "execution_count": 34,
   "metadata": {},
   "outputs": [
    {
     "name": "stdout",
     "output_type": "stream",
     "text": [
      "['2020-03-01T00:00' '2020-03-08T00:00' '2020-03-08T20:00'] datetime64[m]\n"
     ]
    }
   ],
   "source": [
    "#从字符串创建 datetime64 数组时，如果单位不统一，则一律转化成其中最小的单位。\n",
    "\n",
    "p = np.array(['2020-03', '2020-03-08', '2020-03-08 20:00'], dtype='datetime64')\n",
    "print(p, p.dtype)"
   ]
  },
  {
   "cell_type": "code",
   "execution_count": 36,
   "metadata": {},
   "outputs": [
    {
     "name": "stdout",
     "output_type": "stream",
     "text": [
      "['2020-08-01' '2020-08-02' '2020-08-03' '2020-08-04' '2020-08-05'\n",
      " '2020-08-06' '2020-08-07' '2020-08-08' '2020-08-09']\n",
      "datetime64[D]\n"
     ]
    }
   ],
   "source": [
    "#使用arange()创建 datetime64 数组，用于生成日期范围。\n",
    "\n",
    "q = np.arange('2020-08-01', '2020-08-10', dtype=np.datetime64)\n",
    "print(q)\n",
    "print(q.dtype)  "
   ]
  },
  {
   "cell_type": "markdown",
   "metadata": {},
   "source": [
    "## 3.1 datetime64 和 timedelta64 运算"
   ]
  },
  {
   "cell_type": "markdown",
   "metadata": {},
   "source": [
    "- 定义：timedelta64 表示两个 datetime64 之间的差。timedelta64 也是带单位的，并且和相减运算中的两个 datetime64 中的较小的单位保持一致。"
   ]
  },
  {
   "cell_type": "markdown",
   "metadata": {},
   "source": [
    "### 例"
   ]
  },
  {
   "cell_type": "code",
   "execution_count": 41,
   "metadata": {},
   "outputs": [
    {
     "name": "stdout",
     "output_type": "stream",
     "text": [
      "956178240 minutes timedelta64[m]\n",
      "1 days timedelta64[D]\n",
      "2020-06-15T12:00 datetime64[m]\n",
      "1 years\n",
      "12 months\n"
     ]
    }
   ],
   "source": [
    "e = np.datetime64('2020-03-08') - np.datetime64('202-03-07 08:00')\n",
    "print(e, e.dtype)\n",
    "\n",
    "f = np.datetime64('2020-03-08') - np.datetime64('2020-03-07 23:00', 'D')\n",
    "print(f, f.dtype)\n",
    "\n",
    "g = np.datetime64('2020-06-15 00:00') + np.timedelta64(12, 'h')\n",
    "print(g, g.dtype) \n",
    "\n",
    "#生成 timedelta64时，要注意年（'Y'）和月（'M'）这两个单位无法和其它单位进行运算（一年有几天？一个月有几个小时？这些都是不确定的）\n",
    "h = np.timedelta64(1, 'Y')\n",
    "i = np.timedelta64(h, 'M')\n",
    "print(h)  \n",
    "print(i) \n",
    "\n",
    "#print(np.timedelta64(h, 'D'))\n",
    "# TypeError: Cannot cast NumPy timedelta64 scalar from metadata [Y] to [D] according to the rule 'same_kind'\n"
   ]
  },
  {
   "cell_type": "code",
   "execution_count": 42,
   "metadata": {},
   "outputs": [
    {
     "name": "stdout",
     "output_type": "stream",
     "text": [
      "1 years\n",
      "6 months\n",
      "18 months\n"
     ]
    }
   ],
   "source": [
    "#timedelta64 的运算\n",
    "j = np.timedelta64(1, 'Y')\n",
    "k = np.timedelta64(6, 'M')\n",
    "print(j)  # 1 years\n",
    "print(k)  # 6 months\n",
    "print(j + k)  # 18 months"
   ]
  },
  {
   "cell_type": "markdown",
   "metadata": {},
   "source": [
    "# 4. 数组的创建"
   ]
  },
  {
   "cell_type": "markdown",
   "metadata": {},
   "source": [
    "## 4.1 通过array( )函数进行创建"
   ]
  },
  {
   "cell_type": "markdown",
   "metadata": {},
   "source": [
    "- numpy 提供的最重要的数据结构是ndarray，它是 python 中list的扩展。"
   ]
  },
  {
   "cell_type": "markdown",
   "metadata": {},
   "source": [
    "### 例"
   ]
  },
  {
   "cell_type": "code",
   "execution_count": 46,
   "metadata": {},
   "outputs": [
    {
     "name": "stdout",
     "output_type": "stream",
     "text": [
      "[0 1 2 3 4] <class 'numpy.ndarray'> int64\n",
      "[[11 12 13 14 15]\n",
      " [16 17 18 19 20]\n",
      " [21 22 23 24 25]\n",
      " [26 27 28 29 30]\n",
      " [31 32 33 34 35]] <class 'numpy.ndarray'>\n"
     ]
    }
   ],
   "source": [
    "#创建一维数组\n",
    "array1 = np.array([0, 1, 2, 3, 4])\n",
    "print(array1, type(array1), array1.dtype)\n",
    "\n",
    "#创建二维数组\n",
    "array2 = np.array([[11, 12, 13, 14, 15],\n",
    "              [16, 17, 18, 19, 20],\n",
    "              [21, 22, 23, 24, 25],\n",
    "              [26, 27, 28, 29, 30],\n",
    "              [31, 32, 33, 34, 35]])\n",
    "print(array2, type(array2))"
   ]
  },
  {
   "cell_type": "code",
   "execution_count": null,
   "metadata": {},
   "outputs": [],
   "source": [
    "#array()和asarray()都可以将结构数据转化为 ndarray，\n",
    "#但是array()和asarray()主要区别就是当数据源是ndarray 时，array()仍然会 copy 出一个副本，占用新的内存，\n",
    "#但不改变 dtype 时 asarray()不会。"
   ]
  },
  {
   "cell_type": "markdown",
   "metadata": {},
   "source": [
    "## 4.2 通过fromfunction( )函数进行创建"
   ]
  },
  {
   "cell_type": "code",
   "execution_count": 48,
   "metadata": {},
   "outputs": [
    {
     "name": "stdout",
     "output_type": "stream",
     "text": [
      "[[ 0  1  2  3]\n",
      " [10 11 12 13]\n",
      " [20 21 22 23]\n",
      " [30 31 32 33]\n",
      " [40 41 42 43]]\n"
     ]
    }
   ],
   "source": [
    "array3 = np.fromfunction(lambda i,j : 10*i + j, (5, 4), dtype=int)\n",
    "print(array3)"
   ]
  },
  {
   "cell_type": "markdown",
   "metadata": {},
   "source": [
    "## 4.3 依据 ones 和 zeros 填充方式"
   ]
  },
  {
   "cell_type": "markdown",
   "metadata": {},
   "source": [
    "- zeros()函数：返回给定形状和类型的零数组。\n",
    "- zeros_like()函数：返回与给定数组形状和类型相同的零数组。\n",
    "- ones()函数：返回给定形状和类型的1数组。\n",
    "- ones_like()函数：返回与给定数组形状和类型相同的1数组。"
   ]
  },
  {
   "cell_type": "code",
   "execution_count": 50,
   "metadata": {},
   "outputs": [
    {
     "name": "stdout",
     "output_type": "stream",
     "text": [
      "[0. 0. 0. 0. 0.]\n",
      "[[0. 0. 0.]\n",
      " [0. 0. 0.]]\n",
      "[1. 1. 1. 1. 1.]\n",
      "[[1 1 1]\n",
      " [1 1 1]]\n"
     ]
    }
   ],
   "source": [
    "array4 = np.zeros(5)\n",
    "print(array4) \n",
    "\n",
    "array5 = np.zeros([2,3])\n",
    "print(array5)\n",
    "\n",
    "array6 = np.ones(5)\n",
    "print(array6)\n",
    "\n",
    "array7 = np.array([[1, 2, 3], [4, 5, 6]])\n",
    "array8 = np.ones_like(array7)\n",
    "#ones_like()函数：返回与给定数组形状和类型相同的1数组。\n",
    "print(array8)"
   ]
  },
  {
   "cell_type": "markdown",
   "metadata": {},
   "source": [
    "## 4.4 空数组"
   ]
  },
  {
   "cell_type": "markdown",
   "metadata": {},
   "source": [
    "- empty()函数：返回一个空数组，数组元素为随机数。\n",
    "- empty_like函数：返回与给定数组具有相同形状和类型的新数组。"
   ]
  },
  {
   "cell_type": "code",
   "execution_count": null,
   "metadata": {},
   "outputs": [],
   "source": [
    "#np.empty(5)\n",
    "# [1.95821574e-306 1.60219035e-306 1.37961506e-306, 9.34609790e-307 1.24610383e-306]\n",
    "\n",
    "#np.empty((3, 2))\n",
    "# [[1.60220393e-306 9.34587382e-307]\n",
    "#  [8.45599367e-307 7.56598449e-307]\n",
    "#  [1.33509389e-306 3.59412896e-317]]"
   ]
  },
  {
   "cell_type": "markdown",
   "metadata": {},
   "source": [
    "## 4.5 单位数组"
   ]
  },
  {
   "cell_type": "markdown",
   "metadata": {},
   "source": [
    "- eye()函数：返回一个对角线上为1，其它地方为零的单位数组。\n",
    "- identity()函数：返回一个方的单位数组。"
   ]
  },
  {
   "cell_type": "code",
   "execution_count": 51,
   "metadata": {},
   "outputs": [],
   "source": [
    "#x = np.eye(4)\n",
    "# [[1. 0. 0. 0.]\n",
    "#  [0. 1. 0. 0.]\n",
    "#  [0. 0. 1. 0.]\n",
    "#  [0. 0. 0. 1.]]\n",
    "\n",
    "#x = np.eye(2, 3)\n",
    "# [[1. 0. 0.]\n",
    "#  [0. 1. 0.]]\n",
    "\n",
    "#x = np.identity(4)\n",
    "# [[1. 0. 0. 0.]\n",
    "#  [0. 1. 0. 0.]\n",
    "#  [0. 0. 1. 0.]\n",
    "#  [0. 0. 0. 1.]]"
   ]
  },
  {
   "cell_type": "markdown",
   "metadata": {},
   "source": [
    "## 4.6 常数数组"
   ]
  },
  {
   "cell_type": "markdown",
   "metadata": {},
   "source": [
    "- full()函数：返回一个常数数组。\n",
    "- full_like()函数：返回与给定数组具有相同形状和类型的常数数组。"
   ]
  },
  {
   "cell_type": "code",
   "execution_count": null,
   "metadata": {},
   "outputs": [],
   "source": [
    "#x = np.full((2, 7), 7)\n",
    "# [[7 7 7 7 7 7 7]\n",
    "#  [7 7 7 7 7 7 7]]\n",
    "\n",
    "#x = np.array([[1, 2, 3], [4, 5, 6]])\n",
    "#y = np.full_like(x, 7)\n",
    "# [[7 7 7]\n",
    "#  [7 7 7]]"
   ]
  },
  {
   "cell_type": "markdown",
   "metadata": {},
   "source": [
    "## 4.7 利用数值范围来创建ndarray"
   ]
  },
  {
   "cell_type": "markdown",
   "metadata": {},
   "source": [
    "- arange()函数：返回给定间隔内的均匀间隔的值。\n",
    "- linspace()函数：返回指定间隔内的等间隔数字。\n",
    "- logspace()函数：返回数以对数刻度均匀分布。\n",
    "- numpy.random.rand() 返回一个由[0,1) 内的随机数组成的数组。"
   ]
  },
  {
   "cell_type": "code",
   "execution_count": null,
   "metadata": {},
   "outputs": [],
   "source": [
    "#x = np.arange(5)\n",
    "#[0 1 2 3 4]\n",
    "\n",
    "#x = np.arange(3, 7, 2)\n",
    "#[3 5]\n",
    "\n",
    "#x = np.linspace(start=0, stop=2, num=9) \n",
    "#[0.   0.25 0.5  0.75 1.   1.25 1.5  1.75 2.  ]\n",
    "\n",
    "#x = np.logspace(0, 1, 5)\n",
    "#print(np.around(x, 2))\n",
    "# [ 1.    1.78  3.16  5.62 10.  ] \n",
    "\n",
    "#x = np.random.random(5)\n",
    "# [0.41768753 0.16315577 0.80167915 0.99690199 0.11812291]\n",
    "\n",
    "#x = np.random.random([2, 3])\n",
    "# [[0.41151858 0.93785153 0.57031309]\n",
    "#  [0.13482333 0.20583516 0.45429181]]\n"
   ]
  },
  {
   "cell_type": "markdown",
   "metadata": {},
   "source": [
    "## 4.8 结构数组的创建"
   ]
  },
  {
   "cell_type": "code",
   "execution_count": 64,
   "metadata": {},
   "outputs": [
    {
     "data": {
      "text/plain": [
       "dtype([('name', '<U30'), ('age', '<i8'), ('weight', '<f8')])"
      ]
     },
     "execution_count": 64,
     "metadata": {},
     "output_type": "execute_result"
    }
   ],
   "source": [
    "personType = np.dtype({\n",
    "    'names': ['name', 'age', 'weight'],\n",
    "    'formats': ['U30', 'i8', 'f8']})\n",
    "personType"
   ]
  },
  {
   "cell_type": "code",
   "execution_count": 65,
   "metadata": {},
   "outputs": [
    {
     "name": "stdout",
     "output_type": "stream",
     "text": [
      "[('name', '<U30'), ('age', '<i8'), ('weight', '<f8')]\n"
     ]
    }
   ],
   "source": [
    "print(personType)"
   ]
  },
  {
   "cell_type": "code",
   "execution_count": 62,
   "metadata": {},
   "outputs": [
    {
     "data": {
      "text/plain": [
       "numpy.str_"
      ]
     },
     "execution_count": 62,
     "metadata": {},
     "output_type": "execute_result"
    }
   ],
   "source": [
    "personType[0].type"
   ]
  },
  {
   "cell_type": "code",
   "execution_count": 61,
   "metadata": {},
   "outputs": [
    {
     "data": {
      "text/plain": [
       "numpy.dtype"
      ]
     },
     "execution_count": 61,
     "metadata": {},
     "output_type": "execute_result"
    }
   ],
   "source": [
    "type(personType)"
   ]
  },
  {
   "cell_type": "code",
   "execution_count": 67,
   "metadata": {},
   "outputs": [
    {
     "name": "stdout",
     "output_type": "stream",
     "text": [
      "[('Liming', 24, 63.9) ('Mike', 15, 67. ) ('Jan', 34, 45.8)] <class 'numpy.ndarray'>\n"
     ]
    }
   ],
   "source": [
    "aa = np.array([('Liming', 24, 63.9), ('Mike', 15, 67.), ('Jan', 34, 45.8)],\n",
    "             dtype=personType)\n",
    "aa\n",
    "print(aa, type(aa))"
   ]
  },
  {
   "cell_type": "code",
   "execution_count": 69,
   "metadata": {},
   "outputs": [
    {
     "name": "stdout",
     "output_type": "stream",
     "text": [
      "[('Liming', 24, 63.9) ('Mike', 15, 67. ) ('Jan', 34, 45.8)] <class 'numpy.ndarray'>\n"
     ]
    }
   ],
   "source": [
    "personType2 = np.dtype([('name', 'U30'), ('age', 'i8'), ('weight', 'f8')])\n",
    "bb = np.array([('Liming', 24, 63.9), ('Mike', 15, 67.), ('Jan', 34, 45.8)],\n",
    "             dtype=personType2)\n",
    "print(bb, type(bb))"
   ]
  },
  {
   "cell_type": "markdown",
   "metadata": {},
   "source": [
    "## 4.9 数组的属性"
   ]
  },
  {
   "cell_type": "markdown",
   "metadata": {},
   "source": [
    "- numpy.ndarray.ndim用于返回数组的维数（轴的个数）也称为秩，一维数组的秩为 1，二维数组的秩为 2，以此类推。\n",
    "- numpy.ndarray.shape表示数组的维度，返回一个元组，这个元组的长度就是维度的数目，即 ndim 属性(秩)。\n",
    "- numpy.ndarray.size数组中所有元素的总量，相当于数组的shape中所有元素的乘积，例如矩阵的元素总量为行与列的乘积。\n",
    "- numpy.ndarray.dtype ndarray 对象的元素类型。\n",
    "- numpy.ndarray.itemsize以字节的形式返回数组中每一个元素的大小。"
   ]
  },
  {
   "cell_type": "markdown",
   "metadata": {},
   "source": [
    "### 例"
   ]
  },
  {
   "cell_type": "code",
   "execution_count": null,
   "metadata": {},
   "outputs": [],
   "source": [
    "#a = np.array([1, 2, 3, 4, 5])\n",
    "#print(a.shape)   (5,)\n",
    "#print(a.dtype)   int32\n",
    "#print(a.size)   5\n",
    "#print(a.ndim)   1\n",
    "#print(a.itemsize)   4\n",
    "\n",
    "#在ndarray中所有元素必须是同一类型，否则会自动向下转换，int->float->str。\n",
    "\n",
    "#a = np.array([1, 2, 3, 4, 5])\n",
    "# [1 2 3 4 5]\n",
    "#b = np.array([1, 2, 3, 4, '5'])\n",
    "# ['1' '2' '3' '4' '5']\n",
    "#c = np.array([1, 2, 3, 4, 5.0])\n",
    "# [1. 2. 3. 4. 5.]"
   ]
  }
 ],
 "metadata": {
  "kernelspec": {
   "display_name": "Python 3",
   "language": "python",
   "name": "python3"
  },
  "language_info": {
   "codemirror_mode": {
    "name": "ipython",
    "version": 3
   },
   "file_extension": ".py",
   "mimetype": "text/x-python",
   "name": "python",
   "nbconvert_exporter": "python",
   "pygments_lexer": "ipython3",
   "version": "3.8.1"
  }
 },
 "nbformat": 4,
 "nbformat_minor": 4
}
