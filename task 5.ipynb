{
 "cells": [
  {
   "cell_type": "markdown",
   "metadata": {},
   "source": [
    "# 1. 排序，搜索和计数"
   ]
  },
  {
   "cell_type": "markdown",
   "metadata": {},
   "source": [
    "## 1.1 排序"
   ]
  },
  {
   "cell_type": "markdown",
   "metadata": {},
   "source": [
    "- numpy.sort()\n",
    "\n",
    "numpy.sort(a[, axis=-1, kind='quicksort', order=None]) Return a sorted copy of an array.\n",
    "- axis：排序沿数组的（轴）方向，0表示按行，1表示按列，None表示展开来排序，默认为-1，表示沿最后的轴排序。\n",
    "- kind：排序的算法，提供了快排'quicksort'、混排'mergesort'、堆排'heapsort'， 默认为‘quicksort'。\n",
    "- order：排序的字段名，可指定字段排序，默认为None。"
   ]
  },
  {
   "cell_type": "code",
   "execution_count": 9,
   "metadata": {},
   "outputs": [
    {
     "name": "stdout",
     "output_type": "stream",
     "text": [
      "[[2.32 7.54 9.78 1.73 6.22]\n",
      " [6.93 5.17 9.28 9.76 8.25]\n",
      " [0.01 4.23 0.19 1.73 9.27]\n",
      " [7.99 4.97 0.88 7.32 4.29]\n",
      " [9.05 0.07 8.95 7.9  6.99]]\n"
     ]
    }
   ],
   "source": [
    "import numpy as np\n",
    "\n",
    "np.random.seed(20200612)\n",
    "x = np.random.rand(5, 5) * 10\n",
    "x = np.around(x, 2)\n",
    "print(x)\n",
    "\n",
    "#设置seed（）里的数字就相当于设置了一个盛有随机数的“聚宝盆”，一个数字代表一个“聚宝盆”，当我们在seed（）的括号里设置相同的seed，\n",
    "#“聚宝盆”就是一样的，那当然每次拿出的随机数就会相同（不要觉得就是从里面随机取数字，只要设置的seed相同取出地随机数就一样）。\n",
    "#如果不设置seed，则每次会生成不同的随机数。（注：seed括号里的数值基本可以随便设置哦）"
   ]
  },
  {
   "cell_type": "code",
   "execution_count": 10,
   "metadata": {},
   "outputs": [
    {
     "name": "stdout",
     "output_type": "stream",
     "text": [
      "[[1.73 2.32 6.22 7.54 9.78]\n",
      " [5.17 6.93 8.25 9.28 9.76]\n",
      " [0.01 0.19 1.73 4.23 9.27]\n",
      " [0.88 4.29 4.97 7.32 7.99]\n",
      " [0.07 6.99 7.9  8.95 9.05]]\n"
     ]
    }
   ],
   "source": [
    "y = np.sort(x)\n",
    "print(y)"
   ]
  },
  {
   "cell_type": "code",
   "execution_count": 11,
   "metadata": {},
   "outputs": [
    {
     "name": "stdout",
     "output_type": "stream",
     "text": [
      "[[0.01 0.07 0.19 1.73 4.29]\n",
      " [2.32 4.23 0.88 1.73 6.22]\n",
      " [6.93 4.97 8.95 7.32 6.99]\n",
      " [7.99 5.17 9.28 7.9  8.25]\n",
      " [9.05 7.54 9.78 9.76 9.27]]\n"
     ]
    }
   ],
   "source": [
    "y = np.sort(x, axis=0)\n",
    "print(y)"
   ]
  },
  {
   "cell_type": "code",
   "execution_count": 12,
   "metadata": {},
   "outputs": [
    {
     "name": "stdout",
     "output_type": "stream",
     "text": [
      "[[1.73 2.32 6.22 7.54 9.78]\n",
      " [5.17 6.93 8.25 9.28 9.76]\n",
      " [0.01 0.19 1.73 4.23 9.27]\n",
      " [0.88 4.29 4.97 7.32 7.99]\n",
      " [0.07 6.99 7.9  8.95 9.05]]\n"
     ]
    }
   ],
   "source": [
    "y = np.sort(x, axis=1)\n",
    "print(y)"
   ]
  },
  {
   "cell_type": "code",
   "execution_count": 13,
   "metadata": {},
   "outputs": [
    {
     "name": "stdout",
     "output_type": "stream",
     "text": [
      "[(b'Bob', 17) (b'Jane', 27) (b'Mike', 21) (b'Nancy', 25)]\n",
      "[(b'Bob', 17) (b'Mike', 21) (b'Nancy', 25) (b'Jane', 27)]\n"
     ]
    }
   ],
   "source": [
    "dt = np.dtype([('name', 'S10'), ('age', np.int)])\n",
    "a = np.array([(\"Mike\", 21), (\"Nancy\", 25), (\"Bob\", 17), (\"Jane\", 27)], dtype=dt)\n",
    "b = np.sort(a, order='name')\n",
    "print(b)\n",
    "\n",
    "\n",
    "b = np.sort(a, order='age')\n",
    "print(b)\n"
   ]
  },
  {
   "cell_type": "markdown",
   "metadata": {},
   "source": [
    "- numpy.argsort()\n",
    "\n",
    "numpy.argsort(a[, axis=-1, kind='quicksort', order=None]) Returns the indices that would sort an array.\n"
   ]
  },
  {
   "cell_type": "code",
   "execution_count": 14,
   "metadata": {},
   "outputs": [
    {
     "name": "stdout",
     "output_type": "stream",
     "text": [
      "[6 1 8 5 5 4 1 2 9 1]\n"
     ]
    }
   ],
   "source": [
    "np.random.seed(20200612)\n",
    "x = np.random.randint(0, 10, 10)\n",
    "print(x)"
   ]
  },
  {
   "cell_type": "code",
   "execution_count": 15,
   "metadata": {},
   "outputs": [
    {
     "name": "stdout",
     "output_type": "stream",
     "text": [
      "[1 6 9 7 5 3 4 0 2 8]\n"
     ]
    }
   ],
   "source": [
    "y = np.argsort(x)\n",
    "print(y)"
   ]
  },
  {
   "cell_type": "code",
   "execution_count": 16,
   "metadata": {},
   "outputs": [
    {
     "name": "stdout",
     "output_type": "stream",
     "text": [
      "[1 1 1 2 4 5 5 6 8 9]\n"
     ]
    }
   ],
   "source": [
    "print(x[y])"
   ]
  },
  {
   "cell_type": "code",
   "execution_count": 18,
   "metadata": {},
   "outputs": [
    {
     "name": "stdout",
     "output_type": "stream",
     "text": [
      "[8 2 0 3 4 5 7 1 6 9]\n"
     ]
    }
   ],
   "source": [
    "y = np.argsort(-x)\n",
    "print(y)"
   ]
  },
  {
   "cell_type": "code",
   "execution_count": 19,
   "metadata": {},
   "outputs": [
    {
     "name": "stdout",
     "output_type": "stream",
     "text": [
      "[9 8 6 5 5 4 2 1 1 1]\n"
     ]
    }
   ],
   "source": [
    "print(x[y])"
   ]
  },
  {
   "cell_type": "code",
   "execution_count": 20,
   "metadata": {},
   "outputs": [
    {
     "name": "stdout",
     "output_type": "stream",
     "text": [
      "[[2.32 7.54 9.78 1.73 6.22]\n",
      " [6.93 5.17 9.28 9.76 8.25]\n",
      " [0.01 4.23 0.19 1.73 9.27]\n",
      " [7.99 4.97 0.88 7.32 4.29]\n",
      " [9.05 0.07 8.95 7.9  6.99]]\n"
     ]
    }
   ],
   "source": [
    "np.random.seed(20200612)\n",
    "x = np.random.rand(5, 5) * 10\n",
    "x = np.around(x, 2)\n",
    "print(x)"
   ]
  },
  {
   "cell_type": "code",
   "execution_count": 21,
   "metadata": {},
   "outputs": [
    {
     "name": "stdout",
     "output_type": "stream",
     "text": [
      "[[3 0 4 1 2]\n",
      " [1 0 4 2 3]\n",
      " [0 2 3 1 4]\n",
      " [2 4 1 3 0]\n",
      " [1 4 3 2 0]]\n",
      "[[2 4 2 0 3]\n",
      " [0 2 3 2 0]\n",
      " [1 3 4 3 4]\n",
      " [3 1 1 4 1]\n",
      " [4 0 0 1 2]]\n",
      "[[3 0 4 1 2]\n",
      " [1 0 4 2 3]\n",
      " [0 2 3 1 4]\n",
      " [2 4 1 3 0]\n",
      " [1 4 3 2 0]]\n"
     ]
    }
   ],
   "source": [
    "y = np.argsort(x)\n",
    "print(y)\n",
    "\n",
    "y = np.argsort(x, axis=0)\n",
    "print(y)\n",
    "\n",
    "y = np.argsort(x, axis=1)\n",
    "print(y)"
   ]
  },
  {
   "cell_type": "code",
   "execution_count": 22,
   "metadata": {},
   "outputs": [
    {
     "name": "stdout",
     "output_type": "stream",
     "text": [
      "[[1.73 2.32 6.22 7.54 9.78]\n",
      " [5.17 6.93 8.25 9.28 9.76]\n",
      " [0.01 0.19 1.73 4.23 9.27]\n",
      " [0.88 4.29 4.97 7.32 7.99]\n",
      " [0.07 6.99 7.9  8.95 9.05]]\n"
     ]
    }
   ],
   "source": [
    "y = np.array([np.take(x[i], np.argsort(x[i])) for i in range(5)])  \n",
    "print(y)"
   ]
  },
  {
   "cell_type": "markdown",
   "metadata": {},
   "source": [
    "- numpy.lexsort()\n",
    "\n",
    "numpy.lexsort(keys[, axis=-1]) Perform an indirect stable sort using a sequence of keys.（使用键序列执行间接稳定排序。）\n",
    "\n",
    "- 给定多个可以在电子表格中解释为列的排序键，lexsort返回一个整数索引数组，该数组描述了按多个列排序的顺序。序列中的最后一个键用于主排序顺序，倒数第二个键用于辅助排序顺序，依此类推。keys参数必须是可以转换为相同形状的数组的对象序列。如果为keys参数提供了2D数组，则将其行解释为排序键，并根据最后一行，倒数第二行等进行排序。"
   ]
  },
  {
   "cell_type": "code",
   "execution_count": 23,
   "metadata": {},
   "outputs": [
    {
     "name": "stdout",
     "output_type": "stream",
     "text": [
      "[[2.32 7.54 9.78 1.73 6.22]\n",
      " [6.93 5.17 9.28 9.76 8.25]\n",
      " [0.01 4.23 0.19 1.73 9.27]\n",
      " [7.99 4.97 0.88 7.32 4.29]\n",
      " [9.05 0.07 8.95 7.9  6.99]]\n"
     ]
    }
   ],
   "source": [
    "np.random.seed(20200612)\n",
    "x = np.random.rand(5, 5) * 10\n",
    "x = np.around(x, 2)\n",
    "print(x)"
   ]
  },
  {
   "cell_type": "code",
   "execution_count": 24,
   "metadata": {},
   "outputs": [
    {
     "name": "stdout",
     "output_type": "stream",
     "text": [
      "[2 0 1 3 4]\n",
      "[[0.01 4.23 0.19 1.73 9.27]\n",
      " [2.32 7.54 9.78 1.73 6.22]\n",
      " [6.93 5.17 9.28 9.76 8.25]\n",
      " [7.99 4.97 0.88 7.32 4.29]\n",
      " [9.05 0.07 8.95 7.9  6.99]]\n",
      "[4 3 1 0 2]\n",
      "[[9.05 0.07 8.95 7.9  6.99]\n",
      " [7.99 4.97 0.88 7.32 4.29]\n",
      " [6.93 5.17 9.28 9.76 8.25]\n",
      " [2.32 7.54 9.78 1.73 6.22]\n",
      " [0.01 4.23 0.19 1.73 9.27]]\n"
     ]
    }
   ],
   "source": [
    "index = np.lexsort([x[:, 0]])\n",
    "print(index)\n",
    "\n",
    "y = x[index]\n",
    "print(y)\n",
    "\n",
    "index = np.lexsort([-1 * x[:, 0]])\n",
    "print(index)\n",
    "\n",
    "y = x[index]\n",
    "print(y)"
   ]
  },
  {
   "cell_type": "code",
   "execution_count": null,
   "metadata": {},
   "outputs": [],
   "source": [
    "x = np.array([1, 5, 1, 4, 3, 4, 4])\n",
    "y = np.array([9, 4, 0, 4, 0, 2, 1])\n",
    "a = np.lexsort([x])\n",
    "b = np.lexsort([y])\n",
    "print(a)\n",
    "# [0 2 4 3 5 6 1]\n",
    "print(x[a])\n",
    "# [1 1 3 4 4 4 5]\n",
    "\n",
    "print(b)\n",
    "# [2 4 6 5 1 3 0]\n",
    "print(y[b])\n",
    "# [0 0 1 2 4 4 9]\n",
    "\n",
    "z = np.lexsort([y, x])\n",
    "print(z)\n",
    "# [2 0 4 6 5 3 1]\n",
    "print(x[z])\n",
    "# [1 1 3 4 4 4 5]\n",
    "\n",
    "z = np.lexsort([x, y])\n",
    "print(z)\n",
    "# [2 4 6 5 3 1 0]\n",
    "print(y[z])\n",
    "# [0 0 1 2 4 4 9]"
   ]
  },
  {
   "cell_type": "markdown",
   "metadata": {},
   "source": [
    "- numpy.partition()\n",
    "\n",
    "numpy.partition(a, kth, axis=-1, kind='introselect', order=None) Return a partitioned copy of an array.\n",
    "\n",
    "Creates a copy of the array with its elements rearranged in such a way that the value of the element in k-th position is in the position it would be in a sorted array. All elements smaller than the k-th element are moved before this element and all equal or greater are moved behind it. The ordering of the elements in the two partitions is undefined."
   ]
  },
  {
   "cell_type": "code",
   "execution_count": 25,
   "metadata": {},
   "outputs": [
    {
     "name": "stdout",
     "output_type": "stream",
     "text": [
      "[[ 9 25  4]\n",
      " [ 8 24 16]\n",
      " [17 11 21]\n",
      " [ 3 22  3]\n",
      " [ 3 15  3]\n",
      " [18 17 25]\n",
      " [16  5 12]\n",
      " [29 27 17]]\n"
     ]
    }
   ],
   "source": [
    "np.random.seed(100)\n",
    "x = np.random.randint(1, 30, [8, 3])\n",
    "print(x)"
   ]
  },
  {
   "cell_type": "code",
   "execution_count": 26,
   "metadata": {},
   "outputs": [
    {
     "name": "stdout",
     "output_type": "stream",
     "text": [
      "[[ 3  5  3]\n",
      " [ 3 11  3]\n",
      " [ 8 15  4]\n",
      " [ 9 17 12]\n",
      " [16 22 16]\n",
      " [17 24 17]\n",
      " [18 25 21]\n",
      " [29 27 25]]\n",
      "[[ 3  5  3]\n",
      " [ 3 11  3]\n",
      " [ 8 15  4]\n",
      " [ 9 22 21]\n",
      " [17 24 16]\n",
      " [18 17 25]\n",
      " [16 25 12]\n",
      " [29 27 17]]\n"
     ]
    }
   ],
   "source": [
    "y = np.sort(x, axis=0)\n",
    "print(y)\n",
    "\n",
    "z = np.partition(x, kth=2, axis=0)\n",
    "print(z)"
   ]
  },
  {
   "cell_type": "code",
   "execution_count": 28,
   "metadata": {},
   "outputs": [
    {
     "name": "stdout",
     "output_type": "stream",
     "text": [
      "[ 8 15  4]\n",
      "[17 24 17]\n"
     ]
    }
   ],
   "source": [
    "z = np.partition(x, kth=2, axis=0)\n",
    "print(z[2])\n",
    "\n",
    "z = np.partition(x, kth=-3, axis=0)\n",
    "print(z[-3])"
   ]
  },
  {
   "cell_type": "markdown",
   "metadata": {},
   "source": [
    "- numpy.argpartition()\n",
    "\n",
    "numpy.argpartition(a, kth, axis=-1, kind='introselect', order=None)\n",
    "\n",
    "Perform an indirect partition along the given axis using the algorithm specified by the kind keyword. It returns an array of indices of the same shape as a that index data along the given axis in partitioned order."
   ]
  },
  {
   "cell_type": "code",
   "execution_count": 29,
   "metadata": {},
   "outputs": [
    {
     "name": "stdout",
     "output_type": "stream",
     "text": [
      "[[ 9 25  4]\n",
      " [ 8 24 16]\n",
      " [17 11 21]\n",
      " [ 3 22  3]\n",
      " [ 3 15  3]\n",
      " [18 17 25]\n",
      " [16  5 12]\n",
      " [29 27 17]]\n"
     ]
    }
   ],
   "source": [
    "np.random.seed(100)\n",
    "x = np.random.randint(1, 30, [8, 3])\n",
    "print(x)"
   ]
  },
  {
   "cell_type": "code",
   "execution_count": 31,
   "metadata": {},
   "outputs": [
    {
     "name": "stdout",
     "output_type": "stream",
     "text": [
      "[[3 6 3]\n",
      " [4 2 4]\n",
      " [1 4 0]\n",
      " [0 5 6]\n",
      " [6 3 1]\n",
      " [2 1 7]\n",
      " [5 0 2]\n",
      " [7 7 5]]\n",
      "[[3 6 3]\n",
      " [4 2 4]\n",
      " [1 4 0]\n",
      " [0 3 2]\n",
      " [2 1 1]\n",
      " [5 5 5]\n",
      " [6 0 6]\n",
      " [7 7 7]]\n"
     ]
    }
   ],
   "source": [
    "y = np.argsort(x, axis=0)\n",
    "print(y)\n",
    "\n",
    "z = np.argpartition(x, kth=2, axis=0)\n",
    "print(z)"
   ]
  },
  {
   "cell_type": "code",
   "execution_count": 33,
   "metadata": {},
   "outputs": [
    {
     "name": "stdout",
     "output_type": "stream",
     "text": [
      "[1 4 0]\n",
      "[2 1 7]\n"
     ]
    }
   ],
   "source": [
    "z = np.argpartition(x, kth=2, axis=0)\n",
    "print(z[2])\n",
    "\n",
    "z = np.argpartition(x, kth=-3, axis=0)\n",
    "print(z[-3])"
   ]
  },
  {
   "cell_type": "markdown",
   "metadata": {},
   "source": [
    "## 1.2 搜索"
   ]
  },
  {
   "cell_type": "markdown",
   "metadata": {},
   "source": [
    "numpy.argmax()\n",
    "\n",
    "numpy.argmax(a[, axis=None, out=None])Returns the indices of the maximum values along an axis."
   ]
  },
  {
   "cell_type": "code",
   "execution_count": 34,
   "metadata": {},
   "outputs": [
    {
     "name": "stdout",
     "output_type": "stream",
     "text": [
      "[[2.32 7.54 9.78 1.73 6.22]\n",
      " [6.93 5.17 9.28 9.76 8.25]\n",
      " [0.01 4.23 0.19 1.73 9.27]\n",
      " [7.99 4.97 0.88 7.32 4.29]\n",
      " [9.05 0.07 8.95 7.9  6.99]]\n"
     ]
    }
   ],
   "source": [
    "np.random.seed(20200612)\n",
    "x = np.random.rand(5, 5) * 10\n",
    "x = np.around(x, 2)\n",
    "print(x)"
   ]
  },
  {
   "cell_type": "code",
   "execution_count": 35,
   "metadata": {},
   "outputs": [
    {
     "name": "stdout",
     "output_type": "stream",
     "text": [
      "2\n",
      "[4 0 0 1 2]\n",
      "[2 3 4 0 0]\n"
     ]
    }
   ],
   "source": [
    "y = np.argmax(x)\n",
    "print(y) \n",
    "\n",
    "y = np.argmax(x, axis=0)\n",
    "print(y)\n",
    "\n",
    "y = np.argmax(x, axis=1)\n",
    "print(y)"
   ]
  },
  {
   "cell_type": "markdown",
   "metadata": {},
   "source": [
    "numpy.argmin()\n",
    "\n",
    "numpy.argmin(a[, axis=None, out=None])Returns the indices of the minimum values along an axis."
   ]
  },
  {
   "cell_type": "code",
   "execution_count": 36,
   "metadata": {},
   "outputs": [
    {
     "name": "stdout",
     "output_type": "stream",
     "text": [
      "[[2.32 7.54 9.78 1.73 6.22]\n",
      " [6.93 5.17 9.28 9.76 8.25]\n",
      " [0.01 4.23 0.19 1.73 9.27]\n",
      " [7.99 4.97 0.88 7.32 4.29]\n",
      " [9.05 0.07 8.95 7.9  6.99]]\n"
     ]
    }
   ],
   "source": [
    "np.random.seed(20200612)\n",
    "x = np.random.rand(5, 5) * 10\n",
    "x = np.around(x, 2)\n",
    "print(x)"
   ]
  },
  {
   "cell_type": "code",
   "execution_count": 37,
   "metadata": {},
   "outputs": [
    {
     "name": "stdout",
     "output_type": "stream",
     "text": [
      "10\n",
      "[2 4 2 0 3]\n",
      "[3 1 0 2 1]\n"
     ]
    }
   ],
   "source": [
    "y = np.argmin(x)\n",
    "print(y)\n",
    "\n",
    "y = np.argmin(x, axis=0)\n",
    "print(y)\n",
    "\n",
    "y = np.argmin(x, axis=1)\n",
    "print(y)"
   ]
  },
  {
   "cell_type": "markdown",
   "metadata": {},
   "source": [
    "numppy.nonzero()\n",
    "\n",
    "numppy.nonzero(a) Return the indices of the elements that are non-zero.\n",
    "，其值为非零元素的下标在对应轴上的值。\n",
    "\n",
    "- 只有a中非零元素才会有索引值，那些零值元素没有索引值。\n",
    "- 返回一个长度为a.ndim的元组（tuple），元组的每个元素都是一个整数数组（array）。\n",
    "- 每一个array均是从一个维度上来描述其索引值。比如，如果a是一个二维数组，则tuple包含两个array，第一个array从行维度来描述索引值；第二个array从列维度来描述索引值。\n",
    "- 该 np.transpose(np.nonzero(x)) 函数能够描述出每一个非零元素在不同维度的索引值。\n",
    "- 通过a[nonzero(a)]得到所有a中的非零值。"
   ]
  },
  {
   "cell_type": "code",
   "execution_count": 38,
   "metadata": {},
   "outputs": [
    {
     "name": "stdout",
     "output_type": "stream",
     "text": [
      "[0 2 3]\n",
      "(3,)\n",
      "1\n",
      "(array([1, 2]),)\n",
      "[[1 2]]\n",
      "(1, 2)\n",
      "2\n",
      "[[1]\n",
      " [2]]\n",
      "[2 3]\n"
     ]
    }
   ],
   "source": [
    "x = np.array([0, 2, 3])\n",
    "print(x)  \n",
    "print(x.shape) \n",
    "print(x.ndim)  \n",
    "\n",
    "y = np.nonzero(x)\n",
    "print(y)  \n",
    "print(np.array(y)) \n",
    "print(np.array(y).shape) \n",
    "print(np.array(y).ndim) \n",
    "print(np.transpose(y))\n",
    "\n",
    "print(x[np.nonzero(x)])"
   ]
  },
  {
   "cell_type": "code",
   "execution_count": 39,
   "metadata": {},
   "outputs": [
    {
     "name": "stdout",
     "output_type": "stream",
     "text": [
      "[[3 0 0]\n",
      " [0 4 0]\n",
      " [5 6 0]]\n",
      "(3, 3)\n",
      "2\n",
      "(array([0, 1, 2, 2]), array([0, 1, 0, 1]))\n",
      "[[0 1 2 2]\n",
      " [0 1 0 1]]\n",
      "(2, 4)\n",
      "2\n",
      "[3 4 5 6]\n",
      "[[0 0]\n",
      " [1 1]\n",
      " [2 0]\n",
      " [2 1]]\n"
     ]
    }
   ],
   "source": [
    "x = np.array([[3, 0, 0], [0, 4, 0], [5, 6, 0]])\n",
    "print(x)\n",
    "print(x.shape)  \n",
    "print(x.ndim)  \n",
    "\n",
    "y = np.nonzero(x)\n",
    "print(y)\n",
    "\n",
    "print(np.array(y))\n",
    "\n",
    "print(np.array(y).shape)\n",
    "print(np.array(y).ndim) \n",
    "\n",
    "y = x[np.nonzero(x)]\n",
    "print(y)  \n",
    "\n",
    "y = np.transpose(np.nonzero(x))\n",
    "print(y)"
   ]
  },
  {
   "cell_type": "code",
   "execution_count": 40,
   "metadata": {},
   "outputs": [
    {
     "name": "stdout",
     "output_type": "stream",
     "text": [
      "[[[0 1]\n",
      "  [1 0]]\n",
      "\n",
      " [[0 1]\n",
      "  [1 0]]\n",
      "\n",
      " [[0 0]\n",
      "  [1 0]]]\n",
      "(3, 2, 2)\n",
      "3\n",
      "[[0 0 1 1 2]\n",
      " [0 1 0 1 1]\n",
      " [1 0 1 0 0]]\n",
      "(3, 5)\n",
      "2\n",
      "(array([0, 0, 1, 1, 2]), array([0, 1, 0, 1, 1]), array([1, 0, 1, 0, 0]))\n",
      "[1 1 1 1 1]\n"
     ]
    }
   ],
   "source": [
    "x = np.array([[[0, 1], [1, 0]], [[0, 1], [1, 0]], [[0, 0], [1, 0]]])\n",
    "print(x)\n",
    "print(np.shape(x))  # (3, 2, 2)\n",
    "print(x.ndim)  # 3\n",
    "\n",
    "y = np.nonzero(x)\n",
    "print(np.array(y))\n",
    "\n",
    "print(np.array(y).shape)  \n",
    "print(np.array(y).ndim) \n",
    "print(y)\n",
    "\n",
    "print(x[np.nonzero(x)])"
   ]
  },
  {
   "cell_type": "code",
   "execution_count": 41,
   "metadata": {},
   "outputs": [
    {
     "name": "stdout",
     "output_type": "stream",
     "text": [
      "[[1 2 3]\n",
      " [4 5 6]\n",
      " [7 8 9]]\n",
      "[[False False False]\n",
      " [ True  True  True]\n",
      " [ True  True  True]]\n",
      "(array([1, 1, 1, 2, 2, 2]), array([0, 1, 2, 0, 1, 2]))\n",
      "[4 5 6 7 8 9]\n",
      "[4 5 6 7 8 9]\n"
     ]
    }
   ],
   "source": [
    "x = np.array([[1, 2, 3], [4, 5, 6], [7, 8, 9]])\n",
    "print(x)\n",
    "\n",
    "y = x > 3\n",
    "print(y)\n",
    "\n",
    "y = np.nonzero(x > 3)\n",
    "print(y)\n",
    "\n",
    "y = x[np.nonzero(x > 3)]\n",
    "print(y)\n",
    "\n",
    "y = x[x > 3]\n",
    "print(y)"
   ]
  },
  {
   "cell_type": "markdown",
   "metadata": {},
   "source": [
    "- numpy.where()\n",
    "\n",
    "numpy.where(condition, [x=None, y=None]) Return elements chosen from x or y depending on condition."
   ]
  },
  {
   "cell_type": "code",
   "execution_count": 42,
   "metadata": {},
   "outputs": [
    {
     "name": "stdout",
     "output_type": "stream",
     "text": [
      "[0 1 2 3 4 5 6 7 8 9]\n",
      "[ 0  1  2  3  4 50 60 70 80 90]\n",
      "[[ 0  1  2]\n",
      " [ 0  2 -1]\n",
      " [ 0  3 -1]]\n"
     ]
    }
   ],
   "source": [
    "x = np.arange(10)\n",
    "print(x)\n",
    "\n",
    "y = np.where(x < 5, x, 10 * x)\n",
    "print(y)\n",
    "\n",
    "x = np.array([[0, 1, 2],\n",
    "              [0, 2, 4],\n",
    "              [0, 3, 6]])\n",
    "y = np.where(x < 4, x, -1)\n",
    "print(y)"
   ]
  },
  {
   "cell_type": "markdown",
   "metadata": {},
   "source": [
    "只有condition，没有x和y，则输出满足条件 (即非0) 元素的坐标 (等价于numpy.nonzero)。这里的坐标以tuple的形式给出，通常原数组有多少维，输出的tuple中就包含几个数组，分别对应符合条件元素的各维坐标。"
   ]
  },
  {
   "cell_type": "code",
   "execution_count": 43,
   "metadata": {},
   "outputs": [
    {
     "name": "stdout",
     "output_type": "stream",
     "text": [
      "(array([5, 6, 7]),)\n",
      "[6 7 8]\n",
      "(array([5, 6, 7]),)\n",
      "[6 7 8]\n",
      "(array([3, 3, 3, 3, 3, 4, 4, 4, 4, 4]), array([0, 1, 2, 3, 4, 0, 1, 2, 3, 4]))\n",
      "[26 27 28 29 30 31 32 33 34 35]\n",
      "(array([3, 3, 3, 3, 3, 4, 4, 4, 4, 4]), array([0, 1, 2, 3, 4, 0, 1, 2, 3, 4]))\n",
      "[26 27 28 29 30 31 32 33 34 35]\n"
     ]
    }
   ],
   "source": [
    "x = np.array([1, 2, 3, 4, 5, 6, 7, 8])\n",
    "y = np.where(x > 5)\n",
    "print(y)\n",
    "print(x[y])\n",
    "\n",
    "y = np.nonzero(x > 5)\n",
    "print(y)\n",
    "print(x[y])\n",
    "\n",
    "x = np.array([[11, 12, 13, 14, 15],\n",
    "              [16, 17, 18, 19, 20],\n",
    "              [21, 22, 23, 24, 25],\n",
    "              [26, 27, 28, 29, 30],\n",
    "              [31, 32, 33, 34, 35]])\n",
    "y = np.where(x > 25)\n",
    "print(y)\n",
    "print(x[y])\n",
    "\n",
    "y = np.nonzero(x > 25)\n",
    "print(y)\n",
    "print(x[y])"
   ]
  },
  {
   "cell_type": "markdown",
   "metadata": {},
   "source": [
    "- numpy.searchsorted()\n",
    "\n",
    "numpy.searchsorted(a, v[, side='left', sorter=None]) Find indices where elements should be inserted to maintain order.\n",
    "- a：一维输入数组。当sorter参数为None的时候，a必须为升序数组；否则，sorter不能为空，存放a中元素的index，用于反映a数组的升序排列方式。\n",
    "- v：插入a数组的值，可以为单个元素，list或者ndarray。\n",
    "- side：查询方向，当为left时，将返回第一个符合条件的元素下标；当为right时，将返回最后一个符合条件的元素下标。\n",
    "- sorter：一维数组存放a数组元素的 index，index 对应元素为升序。"
   ]
  },
  {
   "cell_type": "code",
   "execution_count": null,
   "metadata": {},
   "outputs": [],
   "source": [
    "x = np.array([0, 1, 5, 9, 11, 18, 26, 33])\n",
    "y = np.searchsorted(x, 15)\n",
    "print(y)  # 5\n",
    "\n",
    "y = np.searchsorted(x, 15, side='right')\n",
    "print(y)  # 5\n",
    "\n",
    "y = np.searchsorted(x, -1)\n",
    "print(y)  # 0\n",
    "\n",
    "y = np.searchsorted(x, -1, side='right')\n",
    "print(y)  # 0\n",
    "\n",
    "y = np.searchsorted(x, 35)\n",
    "print(y)  # 8\n",
    "\n",
    "y = np.searchsorted(x, 35, side='right')\n",
    "print(y)  # 8\n",
    "\n",
    "y = np.searchsorted(x, 11)\n",
    "print(y)  # 4\n",
    "\n",
    "y = np.searchsorted(x, 11, side='right')\n",
    "print(y)  # 5\n",
    "\n",
    "y = np.searchsorted(x, 0)\n",
    "print(y)  # 0\n",
    "\n",
    "y = np.searchsorted(x, 0, side='right')\n",
    "print(y)  # 1\n",
    "\n",
    "y = np.searchsorted(x, 33)\n",
    "print(y)  # 7\n",
    "\n",
    "y = np.searchsorted(x, 33, side='right')\n",
    "print(y)  # 8"
   ]
  },
  {
   "cell_type": "code",
   "execution_count": 44,
   "metadata": {},
   "outputs": [
    {
     "name": "stdout",
     "output_type": "stream",
     "text": [
      "[0 0 4 5 7 8]\n",
      "[0 1 5 5 8 8]\n"
     ]
    }
   ],
   "source": [
    "x = np.array([0, 1, 5, 9, 11, 18, 26, 33])\n",
    "y = np.searchsorted(x, [-1, 0, 11, 15, 33, 35])\n",
    "print(y)\n",
    "\n",
    "y = np.searchsorted(x, [-1, 0, 11, 15, 33, 35], side='right')\n",
    "print(y)"
   ]
  },
  {
   "cell_type": "markdown",
   "metadata": {},
   "source": [
    "## 1.3 计数"
   ]
  },
  {
   "cell_type": "markdown",
   "metadata": {},
   "source": [
    "- numpy.count_nonzero()\n",
    "\n",
    "numpy.count_nonzero(a, axis=None) Counts the number of non-zero values in the array a."
   ]
  },
  {
   "cell_type": "code",
   "execution_count": 45,
   "metadata": {},
   "outputs": [
    {
     "name": "stdout",
     "output_type": "stream",
     "text": [
      "4\n",
      "5\n",
      "[1 1 1 1 1]\n",
      "[2 3]\n"
     ]
    }
   ],
   "source": [
    "x = np.count_nonzero(np.eye(4))\n",
    "print(x) \n",
    "\n",
    "x = np.count_nonzero([[0, 1, 7, 0, 0], [3, 0, 0, 2, 19]])\n",
    "print(x)\n",
    "\n",
    "x = np.count_nonzero([[0, 1, 7, 0, 0], [3, 0, 0, 2, 19]], axis=0)\n",
    "print(x)\n",
    "\n",
    "x = np.count_nonzero([[0, 1, 7, 0, 0], [3, 0, 0, 2, 19]], axis=1)\n",
    "print(x)"
   ]
  },
  {
   "cell_type": "code",
   "execution_count": null,
   "metadata": {},
   "outputs": [],
   "source": []
  }
 ],
 "metadata": {
  "kernelspec": {
   "display_name": "Python 3",
   "language": "python",
   "name": "python3"
  },
  "language_info": {
   "codemirror_mode": {
    "name": "ipython",
    "version": 3
   },
   "file_extension": ".py",
   "mimetype": "text/x-python",
   "name": "python",
   "nbconvert_exporter": "python",
   "pygments_lexer": "ipython3",
   "version": "3.8.1"
  }
 },
 "nbformat": 4,
 "nbformat_minor": 4
}
